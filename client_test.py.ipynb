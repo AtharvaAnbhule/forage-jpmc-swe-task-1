{
 "cells": [
  {
   "cell_type": "code",
   "execution_count": null,
   "id": "8dc38f77",
   "metadata": {},
   "outputs": [],
   "source": [
    "import unittest\n",
    "from client3 import getDataPoint\n",
    "\n",
    "class ClientTest(unittest.TestCase):\n",
    "  def test_getDataPoint_calculatePrice(self):\n",
    "    quotes = [\n",
    "      {'top_ask': {'price': 121.2, 'size': 36}, 'timestamp': '2019-02-11 22:06:30.572453', 'top_bid': {'price': 120.48, 'size': 109}, 'id': '0.109974697771', 'stock': 'ABC'},\n",
    "      {'top_ask': {'price': 121.68, 'size': 4}, 'timestamp': '2019-02-11 22:06:30.572453', 'top_bid': {'price': 117.87, 'size': 81}, 'id': '0.109974697771', 'stock': 'DEF'}\n",
    "    ]\n",
    "    \"\"\" ------------ Add the assertion below ------------ \"\"\"\n",
    "\n",
    "  def test_getDataPoint_calculatePriceBidGreaterThanAsk(self):\n",
    "    quotes = [\n",
    "      {'top_ask': {'price': 119.2, 'size': 36}, 'timestamp': '2019-02-11 22:06:30.572453', 'top_bid': {'price': 120.48, 'size': 109}, 'id': '0.109974697771', 'stock': 'ABC'},\n",
    "      {'top_ask': {'price': 121.68, 'size': 4}, 'timestamp': '2019-02-11 22:06:30.572453', 'top_bid': {'price': 117.87, 'size': 81}, 'id': '0.109974697771', 'stock': 'DEF'}\n",
    "    ]\n",
    "    \"\"\" ------------ Add the assertion below ------------ \"\"\"\n",
    "\n",
    "\n",
    "  \"\"\" ------------ Add more unit tests ------------ \"\"\"\n",
    "\n",
    "\n",
    "\n",
    "if __name__ == '__main__':\n",
    "    unittest.main()\n"
   ]
  }
 ],
 "metadata": {
  "kernelspec": {
   "display_name": "Python 3 (ipykernel)",
   "language": "python",
   "name": "python3"
  },
  "language_info": {
   "codemirror_mode": {
    "name": "ipython",
    "version": 3
   },
   "file_extension": ".py",
   "mimetype": "text/x-python",
   "name": "python",
   "nbconvert_exporter": "python",
   "pygments_lexer": "ipython3",
   "version": "3.9.13"
  }
 },
 "nbformat": 4,
 "nbformat_minor": 5
}
